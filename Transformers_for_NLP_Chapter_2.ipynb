{
  "nbformat": 4,
  "nbformat_minor": 0,
  "metadata": {
    "colab": {
      "provenance": [],
      "authorship_tag": "ABX9TyMvT+8l3OLYPZ+RDTEZ8ZnT",
      "include_colab_link": true
    },
    "kernelspec": {
      "name": "python3",
      "display_name": "Python 3"
    },
    "language_info": {
      "name": "python"
    }
  },
  "cells": [
    {
      "cell_type": "markdown",
      "metadata": {
        "id": "view-in-github",
        "colab_type": "text"
      },
      "source": [
        "<a href=\"https://colab.research.google.com/github/lawrenceemenike/Transformers-for-NLP/blob/main/Transformers_for_NLP_Chapter_2.ipynb\" target=\"_parent\"><img src=\"https://colab.research.google.com/assets/colab-badge.svg\" alt=\"Open In Colab\"/></a>"
      ]
    },
    {
      "cell_type": "code",
      "execution_count": 1,
      "metadata": {
        "id": "r-scp8Sk1SYD"
      },
      "outputs": [],
      "source": [
        "import numpy as np\n",
        "from scipy.special import softmax"
      ]
    },
    {
      "cell_type": "code",
      "source": [
        "print(\"Step 1: Input  3 inputs, d_model=4\")\n",
        "x = np.array([[1.0, 0.0, 1.0, 0.0],\n",
        "              [0.0, 2.0, 0.0, 2.0],\n",
        "              [1.0, 1.0, 1.0, 1.0]])\n",
        "\n",
        "print(x)"
      ],
      "metadata": {
        "colab": {
          "base_uri": "https://localhost:8080/"
        },
        "id": "7r0Izf9I1glC",
        "outputId": "6b844459-cb0d-47f1-b7bf-49926a94dad1"
      },
      "execution_count": 2,
      "outputs": [
        {
          "output_type": "stream",
          "name": "stdout",
          "text": [
            "Step 1: Input  3 inputs, d_model=4\n",
            "[[1. 0. 1. 0.]\n",
            " [0. 2. 0. 2.]\n",
            " [1. 1. 1. 1.]]\n"
          ]
        }
      ]
    },
    {
      "cell_type": "code",
      "source": [
        "print(\"Step 2: weights 3 dimensions x d_model=4\")\n",
        "print(\"w_query\")\n",
        "w_query = np.array([[1, 0, 1],\n",
        "                   [1, 0, 0],\n",
        "                    [0, 0, 1],\n",
        "                    [0, 1, 1]])\n",
        "print(w_query)"
      ],
      "metadata": {
        "colab": {
          "base_uri": "https://localhost:8080/"
        },
        "id": "qM-VZpPw11Ff",
        "outputId": "9cfc4da6-416c-4c2d-d27e-e2a0edcb9269"
      },
      "execution_count": 3,
      "outputs": [
        {
          "output_type": "stream",
          "name": "stdout",
          "text": [
            "Step 2: weights 3 dimensions x d_model=4\n",
            "w_query\n",
            "[[1 0 1]\n",
            " [1 0 0]\n",
            " [0 0 1]\n",
            " [0 1 1]]\n"
          ]
        }
      ]
    },
    {
      "cell_type": "code",
      "source": [
        "print(\"w_key\")\n",
        "w_key = np.array([[0, 0, 1],\n",
        "                  [1, 1, 0],\n",
        "                  [0, 1, 0],\n",
        "                  [1, 1, 0]])\n",
        "print(w_key)"
      ],
      "metadata": {
        "colab": {
          "base_uri": "https://localhost:8080/"
        },
        "id": "I_WA74r82OM_",
        "outputId": "964fefa4-31ad-4c80-e0d3-2488e6fa6493"
      },
      "execution_count": 13,
      "outputs": [
        {
          "output_type": "stream",
          "name": "stdout",
          "text": [
            "w_key\n",
            "[[0 0 1]\n",
            " [1 1 0]\n",
            " [0 1 0]\n",
            " [1 1 0]]\n"
          ]
        }
      ]
    },
    {
      "cell_type": "code",
      "source": [
        "print('w_value')\n",
        "w_value = np.array([[0, 2, 0],\n",
        "                    [0, 3, 0],\n",
        "                    [1, 0, 3],\n",
        "                    [1, 1, 0]])\n",
        "print(w_value)"
      ],
      "metadata": {
        "colab": {
          "base_uri": "https://localhost:8080/"
        },
        "id": "X5HkzuK52eN_",
        "outputId": "a10a6fd5-6acd-45ad-84aa-d2dbd1cb3b6c"
      },
      "execution_count": 8,
      "outputs": [
        {
          "output_type": "stream",
          "name": "stdout",
          "text": [
            "w_value\n",
            "[[0 2 0]\n",
            " [0 3 0]\n",
            " [1 0 3]\n",
            " [1 1 0]]\n"
          ]
        }
      ]
    },
    {
      "cell_type": "code",
      "source": [
        "print(\"Step 3: Matrix multiplication to obtain Q, k, V\")\n",
        "print(\" Query: x * w_query\")\n",
        "Q = np.matmul(x,w_query)\n",
        "print(Q)"
      ],
      "metadata": {
        "colab": {
          "base_uri": "https://localhost:8080/"
        },
        "id": "yqZZV0P_23N-",
        "outputId": "4ef0f0bc-9f9a-4f6d-9065-17ffa5604462"
      },
      "execution_count": 9,
      "outputs": [
        {
          "output_type": "stream",
          "name": "stdout",
          "text": [
            "Step 3: Matrix multiplication to obtain Q, k, V\n",
            " Query: x * w_query\n",
            "[[1. 0. 2.]\n",
            " [2. 2. 2.]\n",
            " [2. 1. 3.]]\n"
          ]
        }
      ]
    },
    {
      "cell_type": "code",
      "source": [
        "print(\"key: x * w_key\")\n",
        "k=np.matmul(x,w_key)\n",
        "print(k)"
      ],
      "metadata": {
        "colab": {
          "base_uri": "https://localhost:8080/"
        },
        "id": "NOMYm7bB3YhN",
        "outputId": "40e25c6c-ae45-4855-fb63-ff0fe8a80e82"
      },
      "execution_count": 14,
      "outputs": [
        {
          "output_type": "stream",
          "name": "stdout",
          "text": [
            "key: x * w_key\n",
            "[[0. 1. 1.]\n",
            " [4. 4. 0.]\n",
            " [2. 3. 1.]]\n"
          ]
        }
      ]
    },
    {
      "cell_type": "code",
      "source": [
        "print(\"value: x * w_value\")\n",
        "v=np.matmul(x,w_value)\n",
        "print(v)"
      ],
      "metadata": {
        "colab": {
          "base_uri": "https://localhost:8080/"
        },
        "id": "RbG6-HyW3sGH",
        "outputId": "5282f038-7eff-48c8-94e8-53719b327dd2"
      },
      "execution_count": 15,
      "outputs": [
        {
          "output_type": "stream",
          "name": "stdout",
          "text": [
            "value: x * w_value\n",
            "[[1. 2. 3.]\n",
            " [2. 8. 0.]\n",
            " [2. 6. 3.]]\n"
          ]
        }
      ]
    },
    {
      "cell_type": "code",
      "source": [
        "print(\"step 4: Scaled Attention Scores\")\n",
        "k_d=1 # square root of k_d=3 rounded down to 1 for this example\n",
        "attention_scores = (Q @ k.transpose())/k_d\n",
        "print(attention_scores)"
      ],
      "metadata": {
        "colab": {
          "base_uri": "https://localhost:8080/"
        },
        "id": "YxTDvaHp4Lq0",
        "outputId": "78bf5607-9618-411a-aca9-ed186f4325ea"
      },
      "execution_count": 17,
      "outputs": [
        {
          "output_type": "stream",
          "name": "stdout",
          "text": [
            "step 4: Scaled Attention Scores\n",
            "[[ 2.  4.  4.]\n",
            " [ 4. 16. 12.]\n",
            " [ 4. 12. 10.]]\n"
          ]
        }
      ]
    },
    {
      "cell_type": "code",
      "source": [
        "print(\"Step 5: Scaled softmax attention_scores for each vector\")\n",
        "attention_scores[0]=softmax(attention_scores[0])\n",
        "attention_scores[1]=softmax(attention_scores[1])\n",
        "attention_scores[2]=softmax(attention_scores[2])\n",
        "print(attention_scores[0])\n",
        "print(attention_scores[1])\n",
        "print(attention_scores[2])"
      ],
      "metadata": {
        "colab": {
          "base_uri": "https://localhost:8080/"
        },
        "id": "zckSSt1r4ro1",
        "outputId": "ca2ba12a-9d97-44ba-ea96-e456107aceed"
      },
      "execution_count": 18,
      "outputs": [
        {
          "output_type": "stream",
          "name": "stdout",
          "text": [
            "Step 5: Scaled softmax attention_scores for each vector\n",
            "[0.06337894 0.46831053 0.46831053]\n",
            "[6.03366485e-06 9.82007865e-01 1.79861014e-02]\n",
            "[2.95387223e-04 8.80536902e-01 1.19167711e-01]\n"
          ]
        }
      ]
    },
    {
      "cell_type": "code",
      "source": [
        "print(\"Step 6: attention value obtained by score1/k_d * v\")\n",
        "print(v[0])\n",
        "print(v[1])\n",
        "print(v[2])\n",
        "print(\"Attention 1\")\n",
        "attention1 = attention_scores[0].reshape(-1, 1)\n",
        "attention1 = attention_scores[0][0]*v[0]\n",
        "\n",
        "print(\"Attention 2\")\n",
        "attention2 = attention_scores[0][1]*v[1]\n",
        "attention2=attention_scores[0][1]*v[1]\n",
        "print(attention2)\n",
        "\n",
        "print(\"attention 3\")\n",
        "attention3 = attention_scores[0][2]*v[2]\n",
        "print(attention3)\n"
      ],
      "metadata": {
        "colab": {
          "base_uri": "https://localhost:8080/"
        },
        "id": "26YKDZ7K79mS",
        "outputId": "a259d97c-9c79-4338-9038-aaffedd9b1d7"
      },
      "execution_count": 19,
      "outputs": [
        {
          "output_type": "stream",
          "name": "stdout",
          "text": [
            "Step 6: attention value obtained by score1/k_d * v\n",
            "[1. 2. 3.]\n",
            "[2. 8. 0.]\n",
            "[2. 6. 3.]\n",
            "Attention 1\n",
            "Attention 2\n",
            "[0.93662106 3.74648425 0.        ]\n",
            "attention 3\n",
            "[0.93662106 2.80986319 1.40493159]\n"
          ]
        }
      ]
    },
    {
      "cell_type": "code",
      "source": [
        "print(\"Step 7: summed the results to create the first line of the output matrix\")\n",
        "attention_input1=attention1+attention2+attention3\n",
        "print(attention_input1)"
      ],
      "metadata": {
        "colab": {
          "base_uri": "https://localhost:8080/"
        },
        "id": "iKNfaFLr9VUE",
        "outputId": "c94484ff-8e5e-4763-f75a-d3827f538ea7"
      },
      "execution_count": 20,
      "outputs": [
        {
          "output_type": "stream",
          "name": "stdout",
          "text": [
            "Step 7: summed the results to create the first line of the output matrix\n",
            "[1.93662106 6.68310531 1.59506841]\n"
          ]
        }
      ]
    },
    {
      "cell_type": "code",
      "source": [
        "print(\"Step 8: Step 1 to 7 for inputs 1 to 3\")\n",
        "# Wwe assume we have 3 results with learned weights and also assume we are implementing the original Transfomer paper. we will have 3 results of 64 dimensions each\n",
        "attention_head1=np.random.random((3, 64))\n",
        "print(attention_head1)"
      ],
      "metadata": {
        "colab": {
          "base_uri": "https://localhost:8080/"
        },
        "id": "iGzx4jVE_WAt",
        "outputId": "e8cfe6fc-76ee-4bcf-8d30-efd5328d9fb2"
      },
      "execution_count": 21,
      "outputs": [
        {
          "output_type": "stream",
          "name": "stdout",
          "text": [
            "Step 8: Step 1 to 7 for inputs 1 to 3\n",
            "[[6.65634620e-01 2.98484911e-01 2.13635072e-01 5.87705856e-01\n",
            "  5.93561498e-01 7.31227750e-01 1.42040131e-01 3.20935599e-01\n",
            "  7.47038386e-01 8.74160181e-01 6.90196689e-01 3.20403285e-01\n",
            "  4.76562085e-01 8.78017596e-01 4.46385295e-01 4.18043024e-01\n",
            "  2.48330405e-01 3.78111370e-01 1.86945256e-01 5.23142372e-01\n",
            "  1.17537060e-02 8.38221158e-01 6.59938474e-01 6.51682451e-01\n",
            "  6.18360574e-01 8.09242344e-01 9.97209383e-01 7.21418231e-01\n",
            "  5.04651500e-01 2.95689226e-01 1.15108670e-01 5.21047765e-01\n",
            "  6.08157621e-02 3.31099436e-01 3.98979673e-01 1.60332887e-01\n",
            "  1.32472079e-01 9.15913592e-01 2.94071579e-02 4.87431879e-01\n",
            "  5.91190730e-01 8.28719296e-01 1.10555997e-01 4.84599965e-01\n",
            "  6.67625178e-01 1.87146063e-01 1.71251197e-01 2.24514284e-01\n",
            "  7.24753394e-01 2.74983019e-01 3.22658210e-01 7.03801460e-01\n",
            "  6.59175189e-01 3.79487039e-01 3.23711228e-01 9.70324916e-01\n",
            "  4.43512141e-01 1.80236480e-01 4.84666419e-01 3.16105756e-01\n",
            "  2.04035433e-01 7.89268916e-02 5.46690249e-02 1.54950658e-01]\n",
            " [2.76023818e-01 8.69693859e-01 9.15322732e-01 6.31130561e-01\n",
            "  9.75584136e-01 5.39017138e-01 9.40748990e-01 3.74227055e-01\n",
            "  8.85507318e-02 3.40323300e-01 3.24784995e-01 5.29238734e-01\n",
            "  8.60641991e-02 1.17065454e-01 8.98325285e-01 5.36788694e-01\n",
            "  6.63649156e-01 3.91381143e-01 1.11387986e-01 6.85815699e-01\n",
            "  1.91447940e-03 3.69248927e-01 7.33215503e-01 7.61646231e-01\n",
            "  4.23506911e-01 1.02520155e-02 4.37401480e-01 7.51352830e-01\n",
            "  2.55382413e-01 5.97690154e-01 2.71523782e-01 7.02878679e-01\n",
            "  5.88900522e-01 1.71328722e-01 2.26311113e-01 9.22806970e-01\n",
            "  3.93440490e-01 3.04419020e-01 2.25194281e-01 7.90490636e-01\n",
            "  4.65824385e-01 8.25030660e-02 8.49771836e-01 1.69185093e-01\n",
            "  9.17480120e-01 5.18809965e-01 1.32982599e-01 6.15655750e-01\n",
            "  5.35912194e-01 2.50424646e-01 9.61047771e-01 3.42159400e-01\n",
            "  4.99489966e-01 9.69643633e-01 7.06828467e-02 1.63939291e-01\n",
            "  2.92280628e-01 9.90787089e-01 6.29123835e-01 2.29080880e-01\n",
            "  6.53657346e-01 3.15151632e-01 9.80275342e-01 3.34197751e-01]\n",
            " [3.31936326e-01 5.14270302e-02 4.09076768e-01 3.05307832e-01\n",
            "  3.66127313e-01 7.81953000e-02 6.01538721e-01 1.04679437e-02\n",
            "  3.74838360e-01 2.32733830e-01 8.25658683e-01 8.10004893e-01\n",
            "  2.70287873e-02 9.56578767e-01 6.52331955e-01 5.42696551e-01\n",
            "  7.77091194e-03 1.96788465e-01 7.19814042e-01 9.68553068e-04\n",
            "  7.51394359e-01 7.12513103e-02 4.67956460e-01 3.49681501e-01\n",
            "  6.44673422e-01 3.16272274e-01 8.70231674e-01 2.32512974e-01\n",
            "  4.80236956e-01 6.57131563e-01 4.13124224e-01 2.59444895e-01\n",
            "  8.95197534e-01 3.05443956e-01 7.56583313e-01 8.11061261e-01\n",
            "  4.99370625e-01 4.06348460e-01 1.72090850e-01 6.03832826e-01\n",
            "  6.95316414e-01 4.65182263e-01 4.04275089e-01 2.04226424e-02\n",
            "  7.07312430e-01 6.58153080e-01 4.86690124e-01 5.49527818e-01\n",
            "  7.36021392e-01 4.67601709e-01 8.19814618e-01 6.17534060e-01\n",
            "  9.39118888e-02 1.39227953e-01 5.45273395e-01 1.23020303e-01\n",
            "  7.14953366e-01 1.45424929e-01 1.32587647e-02 7.05897286e-01\n",
            "  3.17264919e-01 2.52715600e-01 4.20355043e-01 7.46384781e-01]]\n"
          ]
        }
      ]
    },
    {
      "cell_type": "code",
      "source": [
        "print(\"Step 9: Wwe assume have trained the 8 heads of the attention sublayer\")\n",
        "z0h1=np.random.random((3, 64))\n",
        "z1h2=np.random.random((3,64))\n",
        "z2h3=np.random.random((3, 64))\n",
        "z3h4=np.random.random((3,64))\n",
        "z4h5=np.random.random((3, 64))\n",
        "z5h6=np.random.random((3,64))\n",
        "z6h7=np.random.random((3, 64))\n",
        "z7h8=np.random.random((3,64))\n",
        "print(\"shape of one head\", z0h1.shape, \"dimension of 8 heads\", 64*8)"
      ],
      "metadata": {
        "colab": {
          "base_uri": "https://localhost:8080/"
        },
        "id": "fW4oQ59mAN2c",
        "outputId": "1e7f9261-fcbf-41b6-c8aa-cab63fd649c5"
      },
      "execution_count": 24,
      "outputs": [
        {
          "output_type": "stream",
          "name": "stdout",
          "text": [
            "Step 9: Wwe assume have trained the 8 heads of the attention sublayer\n",
            "shape of one head (3, 64) dimension of 8 heads 512\n"
          ]
        }
      ]
    },
    {
      "cell_type": "code",
      "source": [
        "print(\"Step 10: Concantenation of heads 1 to 8 to obtain the original 8x64=512 output dimension of the model\")\n",
        "output_attention=np.hstack((z0h1, z1h2,z2h3,z3h4,z4h5,z5h6, z6h7, z7h8))\n",
        "print(output_attention)"
      ],
      "metadata": {
        "colab": {
          "base_uri": "https://localhost:8080/"
        },
        "id": "u7eJ9STuBdQC",
        "outputId": "e264b0a5-9b4a-4b33-d47a-80ce81bc659e"
      },
      "execution_count": 25,
      "outputs": [
        {
          "output_type": "stream",
          "name": "stdout",
          "text": [
            "Step 10: Concantenation of heads 1 to 8 to obtain the original 8x64=512 output dimension of the model\n",
            "[[0.06153983 0.79584684 0.91439377 ... 0.40356964 0.66354238 0.71816946]\n",
            " [0.4405419  0.918761   0.9772307  ... 0.00898934 0.67232367 0.88206427]\n",
            " [0.23488868 0.93517597 0.13842944 ... 0.73114349 0.29119771 0.1979142 ]]\n"
          ]
        }
      ]
    },
    {
      "cell_type": "code",
      "source": [],
      "metadata": {
        "id": "PAcc_T1KCJDU"
      },
      "execution_count": null,
      "outputs": []
    }
  ]
}